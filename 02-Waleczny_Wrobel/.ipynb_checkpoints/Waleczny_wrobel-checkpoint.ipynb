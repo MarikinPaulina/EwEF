{
 "cells": [
  {
   "cell_type": "code",
   "execution_count": 1,
   "metadata": {
    "collapsed": true
   },
   "outputs": [],
   "source": [
    "import numpy as np\n",
    "import pandas as pd\n",
    "import matplotlib.pyplot as plt\n",
    "from matplotlib import rc\n",
    "%matplotlib inline"
   ]
  },
  {
   "cell_type": "code",
   "execution_count": 2,
   "metadata": {
    "collapsed": true
   },
   "outputs": [],
   "source": [
    "rc('font',family='Comic Sans MS')"
   ]
  },
  {
   "cell_type": "code",
   "execution_count": 19,
   "metadata": {
    "collapsed": true
   },
   "outputs": [],
   "source": [
    "def Z(omega,R,C,L):\n",
    "    Z = R + 1j*(omega*L - (1/omega*C))\n",
    "    return Z\n",
    "def Z_sq(omega,R,C,L):\n",
    "    ZZ = R**2 + (omega*L - (1/omega*C))**2\n",
    "    return ZZ"
   ]
  },
  {
   "cell_type": "code",
   "execution_count": 22,
   "metadata": {},
   "outputs": [
    {
     "name": "stderr",
     "output_type": "stream",
     "text": [
      "/home/paulina/.anaconda3/lib/python3.6/site-packages/ipykernel_launcher.py:2: ParserWarning: Falling back to the 'python' engine because the 'c' engine does not support regex separators (separators > 1 char and different from '\\s+' are interpreted as regex); you can avoid this warning by specifying engine='python'.\n",
      "  \n",
      "/home/paulina/.anaconda3/lib/python3.6/site-packages/pandas/io/parsers.py:2138: FutureWarning: split() requires a non-empty pattern match.\n",
      "  yield pat.split(line.strip())\n",
      "/home/paulina/.anaconda3/lib/python3.6/site-packages/pandas/io/parsers.py:2140: FutureWarning: split() requires a non-empty pattern match.\n",
      "  yield pat.split(line.strip())\n",
      "/home/paulina/.anaconda3/lib/python3.6/site-packages/ipykernel_launcher.py:3: ParserWarning: Falling back to the 'python' engine because the 'c' engine does not support regex separators (separators > 1 char and different from '\\s+' are interpreted as regex); you can avoid this warning by specifying engine='python'.\n",
      "  This is separate from the ipykernel package so we can avoid doing imports until\n"
     ]
    }
   ],
   "source": [
    "#Szeregowy układ\n",
    "Cze33 = pd.read_csv(f\"./Dane/BodeSimulator33.txt\",sep=r'\\s*', skiprows=3, header=None, decimal=',')\n",
    "Cze130 = pd.read_csv(f\"./Dane/BodeSimulator130.txt\",sep=r'\\s*', skiprows=3, header=None, decimal=',')\n",
    "Cze130.columns = [\"Elv_Freq(Hz)\",\"Elv_Gain(dB)\",\"Elv_Phase(deg)\",\"Sym_Freq(Hz)\",\"Sym_Gain(dB)\",\"Sym_Phase(deg)\"]\n",
    "Cze33.columns = [\"Elv_Freq(Hz)\",\"Elv_Gain(dB)\",\"Elv_Phase(deg)\",\"Sym_Freq(Hz)\",\"Sym_Gain(dB)\",\"Sym_Phase(deg)\"]\n",
    "Cze33['Elv_Freq(kHz)'] = Cze33['Elv_Freq(Hz)'] / 1e3\n",
    "Cze130['Elv_Freq(kHz)'] = Cze130['Elv_Freq(Hz)'] / 1e3\n",
    "Cze33['Elv_Gain'] = np.exp(Cze33['Elv_Gain(dB)'] / 20)\n",
    "Cze130['Elv_Gain'] = np.exp(Cze130['Elv_Gain(dB)'] / 20)\n",
    "Cze33['Sym_Freq(kHz)'] = Cze33['Sym_Freq(Hz)'] / 1e3\n",
    "Cze130['Sym_Freq(kHz)'] = Cze130['Sym_Freq(Hz)'] / 1e3\n",
    "Cze33['Sym_Gain'] = np.exp(Cze33['Sym_Gain(dB)'] / 20)\n",
    "Cze130['Sym_Gain'] = np.exp(Cze130['Sym_Gain(dB)'] / 20)"
   ]
  }
 ],
 "metadata": {
  "kernelspec": {
   "display_name": "Python 3",
   "language": "python",
   "name": "python3"
  },
  "language_info": {
   "codemirror_mode": {
    "name": "ipython",
    "version": 3
   },
   "file_extension": ".py",
   "mimetype": "text/x-python",
   "name": "python",
   "nbconvert_exporter": "python",
   "pygments_lexer": "ipython3",
   "version": "3.6.3"
  }
 },
 "nbformat": 4,
 "nbformat_minor": 2
}
