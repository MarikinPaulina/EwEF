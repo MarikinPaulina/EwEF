{
 "cells": [
  {
   "cell_type": "code",
   "execution_count": 20,
   "metadata": {},
   "outputs": [],
   "source": [
    "from sympy import *\n",
    "# init_printing()\n",
    "R3, R4 = symbols('R3 R4', real=True, positive=True)\n",
    "expr1 = -0.7654 + 2513.27*10**-8*(R3*(2-5)+R4)\n",
    "expr2 = -1+2513.27**2*10**-16*R3*R4\n",
    "# wtedy:"
   ]
  },
  {
   "cell_type": "code",
   "execution_count": 21,
   "metadata": {},
   "outputs": [
    {
     "data": {
      "text/plain": [
       "[{R3: 18450.4141673419, R4: 85805.5908211477}]"
      ]
     },
     "execution_count": 21,
     "metadata": {},
     "output_type": "execute_result"
    }
   ],
   "source": [
    "solve([expr1, expr2])\n"
   ]
  },
  {
   "cell_type": "code",
   "execution_count": 9,
   "metadata": {},
   "outputs": [
    {
     "data": {
      "text/plain": [
       "[{R3: 18450.3877390648, R4: 85805.4679136668}]"
      ]
     },
     "execution_count": 9,
     "metadata": {},
     "output_type": "execute_result"
    }
   ],
   "source": [
    "wg = 2 * 3.141592 * 400\n",
    "C2 = C3 = C4 = C1 = 10e-9\n",
    "a2 = wg * (R3 * C3 + R4 * C3 + (1-5)*R3*C4)\n",
    "b2 = wg **2 * R3 * R4 * C3 * C4\n",
    "\n",
    "solve([Eq(a2, 0.7654), Eq(b2, 1)])"
   ]
  },
  {
   "cell_type": "code",
   "execution_count": 22,
   "metadata": {},
   "outputs": [
    {
     "data": {
      "text/plain": [
       "[{R3: 18450.3877390648, R4: 85805.4679136668}]"
      ]
     },
     "execution_count": 22,
     "metadata": {},
     "output_type": "execute_result"
    }
   ],
   "source": [
    "a2 = wg * 1e-8*(R4 + (2-5)*R3)\n",
    "b2 = wg **2 * R3 * R4 * C3 * C4\n",
    "\n",
    "solve([Eq(a2, 0.7654), Eq(b2, 1)])"
   ]
  },
  {
   "cell_type": "code",
   "execution_count": 52,
   "metadata": {},
   "outputs": [],
   "source": [
    "import matplotlib.pyplot as plt\n",
    "import numpy as np"
   ]
  },
  {
   "cell_type": "code",
   "execution_count": 53,
   "metadata": {},
   "outputs": [],
   "source": [
    "s = np.logspace(-2,1)\n",
    "k1 = 2\n",
    "k2 = 5\n",
    "a1 = 1.8478\n",
    "a2 = 0.7654\n",
    "b1 = b2 = 1\n",
    "k = k1*k2/((1+a1*s+b1*s**2)*(1+a2*s+b2*s**2))"
   ]
  },
  {
   "cell_type": "code",
   "execution_count": 57,
   "metadata": {},
   "outputs": [
    {
     "data": {
      "image/png": "[encoded data removed]",
      "text/plain": [
       "<Figure size 432x288 with 1 Axes>"
      ]
     },
     "metadata": {},
     "output_type": "display_data"
    }
   ],
   "source": [
    "plt.loglog(s,k)\n",
    "plt.title(\"Wykres zależności wzmocnienia od względnej częstotliwości\")\n",
    "plt.ylabel(\"k\")\n",
    "plt.xlabel(\"$s = \\frac{\\omega}\")\n",
    "plt.grid()\n",
    "plt.savefig(\"K(Ssss).png\",dpi=400)"
   ]
  }
 ],
 "metadata": {
  "kernelspec": {
   "display_name": "Python 3",
   "language": "python",
   "name": "python3"
  },
  "language_info": {
   "codemirror_mode": {
    "name": "ipython",
    "version": 3
   },
   "file_extension": ".py",
   "mimetype": "text/x-python",
   "name": "python",
   "nbconvert_exporter": "python",
   "pygments_lexer": "ipython3",
   "version": "3.6.4"
  }
 },
 "nbformat": 4,
 "nbformat_minor": 2
}
