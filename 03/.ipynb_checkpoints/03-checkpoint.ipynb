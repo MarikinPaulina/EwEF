{
 "cells": [
  {
   "cell_type": "code",
   "execution_count": 1,
   "metadata": {},
   "outputs": [],
   "source": [
    "from astropy import units as u\n",
    "import numpy as np\n",
    "import matplotlib.pyplot as plt\n",
    "import pandas as pd\n",
    "% matplotlib inline"
   ]
  },
  {
   "cell_type": "code",
   "execution_count": 18,
   "metadata": {},
   "outputs": [
    {
     "name": "stdout",
     "output_type": "stream",
     "text": [
      "L:   2e-06 H +/- 8.1e-07 H \n",
      "C_n: 3.9e-10 F +/- 5.45e-12 F \n",
      "C_r: 8.56e-11 F +/- 1.23e-12 F \n",
      "C_g: 1.26e-09 F +/- 9.82e-12 F \n",
      "C_s: 7.68e-09 F +/- 6.89e-11 F\n"
     ]
    }
   ],
   "source": [
    "#Hameg LC HM8018\n",
    "L = 2e-6 *u.Henry\n",
    "C_n = 390e-12 * u.Farad\n",
    "C_r = 85.6e-12 * u.Farad\n",
    "C_g = 1264e-12 * u.Farad\n",
    "C_s = 7.68e-9 * u.Farad\n",
    "d_L = L*0.005 + 0.5e-6 *u.Henry + 0.3e-6 *u.Henry \n",
    "d_C_n = C_n*0.005 + 0.5e-12 *u.Farad + 3e-12 *u.Farad\n",
    "d_C_r = C_r*0.005 + 0.5e-12 *u.Farad + 0.3e-12 *u.Farad\n",
    "d_C_g = C_g*0.005 + 0.5e-12 *u.Farad + 3e-12 *u.Farad\n",
    "d_C_s = C_s*0.005 + 0.5e-12 *u.Farad + 0.03e-9 *u.Farad\n",
    "print(f\"L:   {L:.3} +/- {d_L:.3} \\n\" \\\n",
    "      f\"C_n: {C_n:.3} +/- {d_C_n:.3} \\n\" \\\n",
    "      f\"C_r: {C_r:.3} +/- {d_C_r:.3} \\n\" \\\n",
    "      f\"C_g: {C_g:.3} +/- {d_C_g:.3} \\n\" \\\n",
    "      f\"C_s: {C_s:.3} +/- {d_C_s:.3}\")"
   ]
  },
  {
   "cell_type": "code",
   "execution_count": 22,
   "metadata": {},
   "outputs": [
    {
     "name": "stdout",
     "output_type": "stream",
     "text": [
      "C_n: 3.93e-10 F +/- 1.31e-11 F \n",
      "C_r: 8.68e-11 F +/- 1.54e-12 F \n",
      "C_g: 1.28e-09 F +/- 1.17e-10 F \n",
      "C_s: 7.69e-09 F +/- 1.5e-10 F\n"
     ]
    }
   ],
   "source": [
    "# Mostek E-302\n",
    "C_n = 393.2e-12 *u.Farad\n",
    "C_r = 86.8e-12 *u.Farad\n",
    "C_g = 1276e-12 *u.Farad\n",
    "C_s = 7.686e-9 *u.Farad\n",
    "d_C_n = C_n*0.005 + 11.111e-12 *u.Farad\n",
    "d_C_r = C_r*0.005 + 1.111e-12 *u.Farad\n",
    "d_C_g = C_g*0.005 + 111.111e-12 *u.Farad\n",
    "d_C_s = C_s*0.005 + 111.111e-12 *u.Farad\n",
    "tg_C_n = 2.5e-3\n",
    "tg_C_r = 3e-3\n",
    "tg_C_g = 1.5e-3\n",
    "tg_C_s = 0.5e-3\n",
    "f = 1e3\n",
    "def r(tg,C,omega=2*np.pi*f):\n",
    "    \n",
    "print(f\"C_n: {C_n:.3} +/- {d_C_n:.3} \\n\" \\\n",
    "      f\"C_r: {C_r:.3} +/- {d_C_r:.3} \\n\" \\\n",
    "      f\"C_g: {C_g:.3} +/- {d_C_g:.3} \\n\" \\\n",
    "      f\"C_s: {C_s:.3} +/- {d_C_s:.3}\")"
   ]
  },
  {
   "cell_type": "code",
   "execution_count": 23,
   "metadata": {},
   "outputs": [
    {
     "name": "stdout",
     "output_type": "stream",
     "text": [
      "L:   1.86e-06 1 / (F Hz2) +/- 0.0 \t r_L: 1.93 1 / (F Hz)\n",
      "C_n: 3.86e-10 1 / (H Hz2) +/- 0.0 \t r_C_n: 4.26 H Hz\n",
      "C_r: 9.62e-11 1 / (H Hz2) +/- 0.0 \t r_C_r: 14.5 H Hz\n",
      "C_g: 1.2e-09 1 / (H Hz2) +/- 0.0 \t r_C_g: 2.04 H Hz\n",
      "C_s: 4.42e-09 1 / (H Hz2) +/- 0.0 \t r_C_s: 2.02 H Hz\n"
     ]
    }
   ],
   "source": [
    "# Q-metr MQL-5\n",
    "Q_L = 100\n",
    "Q_C_n = 220\n",
    "Q_C_r = 150\n",
    "Q_C_g = 250\n",
    "Q_C_s = 130\n",
    "f_L = 16.5e6 * u.Hertz\n",
    "f_C_n = 440e3 * u.Hertz\n",
    "f_C_r = 760e3 * u.Hertz\n",
    "f_C_g = 260e3 * u.Hertz\n",
    "f_C_s = 137.5e3 * u.Hertz\n",
    "C = 50e-12 * u.Farad\n",
    "L_baz = 0.3e-3* u.Henry\n",
    "L = 1/(((2*np.pi*f_L)**2)*C)\n",
    "C_n = 1/(4*np.pi**2*f_C_n**2*L_baz) - C\n",
    "C_r = 1/(4*np.pi**2*f_C_r**2*L_baz) - C\n",
    "C_g = 1/(4*np.pi**2*f_C_g**2*L_baz) - C\n",
    "C_s = 1/(4*np.pi**2*f_C_s**2*L_baz) - C\n",
    "d_L = 0.0\n",
    "d_C_n = 0.0\n",
    "d_C_r = 0.0\n",
    "d_C_g = 0.0\n",
    "d_C_s = 0.0\n",
    "r_L = f_L*2*np.pi*L/Q_L\n",
    "r_C_n = 1/(f_C_n*2*np.pi*C_n*Q_C_n)\n",
    "r_C_r = 1/(f_C_r*2*np.pi*C_r*Q_C_r)\n",
    "r_C_g = 1/(f_C_g*2*np.pi*C_g*Q_C_g)\n",
    "r_C_s = 1/(f_C_s*2*np.pi*C_s*Q_C_s)\n",
    "\n",
    "print(f\"L:   {L:.3} +/- {d_L:.3} \\t r_L: {r_L:.3}\\n\" \\\n",
    "      f\"C_n: {C_n:.3} +/- {d_C_n:.3} \\t r_C_n: {r_C_n:.3}\\n\" \\\n",
    "      f\"C_r: {C_r:.3} +/- {d_C_r:.3} \\t r_C_r: {r_C_r:.3}\\n\" \\\n",
    "      f\"C_g: {C_g:.3} +/- {d_C_g:.3} \\t r_C_g: {r_C_g:.3}\\n\" \\\n",
    "      f\"C_s: {C_s:.3} +/- {d_C_s:.3} \\t r_C_s: {r_C_s:.3}\")"
   ]
  },
  {
   "cell_type": "code",
   "execution_count": 10,
   "metadata": {},
   "outputs": [
    {
     "data": {
      "text/html": [
       "<div>\n",
       "<style scoped>\n",
       "    .dataframe tbody tr th:only-of-type {\n",
       "        vertical-align: middle;\n",
       "    }\n",
       "\n",
       "    .dataframe tbody tr th {\n",
       "        vertical-align: top;\n",
       "    }\n",
       "\n",
       "    .dataframe thead th {\n",
       "        text-align: right;\n",
       "    }\n",
       "</style>\n",
       "<table border=\"1\" class=\"dataframe\">\n",
       "  <thead>\n",
       "    <tr style=\"text-align: right;\">\n",
       "      <th></th>\n",
       "      <th>f[kHz]</th>\n",
       "      <th>Z[kOm]</th>\n",
       "      <th>L_s[mH]</th>\n",
       "      <th>theta[circ]</th>\n",
       "      <th>Q</th>\n",
       "      <th>D</th>\n",
       "      <th>ESR[Om]</th>\n",
       "    </tr>\n",
       "  </thead>\n",
       "  <tbody>\n",
       "    <tr>\n",
       "      <th>0</th>\n",
       "      <td>0.1</td>\n",
       "      <td>0.8198</td>\n",
       "      <td>195.1</td>\n",
       "      <td>8.60</td>\n",
       "      <td>0.1512</td>\n",
       "      <td>6.6110</td>\n",
       "      <td>810.500</td>\n",
       "    </tr>\n",
       "    <tr>\n",
       "      <th>1</th>\n",
       "      <td>1.0</td>\n",
       "      <td>1.4680</td>\n",
       "      <td>194.8</td>\n",
       "      <td>56.48</td>\n",
       "      <td>1.5090</td>\n",
       "      <td>0.6623</td>\n",
       "      <td>810.900</td>\n",
       "    </tr>\n",
       "    <tr>\n",
       "      <th>2</th>\n",
       "      <td>10.0</td>\n",
       "      <td>12.2300</td>\n",
       "      <td>195.6</td>\n",
       "      <td>86.05</td>\n",
       "      <td>14.4800</td>\n",
       "      <td>0.0690</td>\n",
       "      <td>848.400</td>\n",
       "    </tr>\n",
       "    <tr>\n",
       "      <th>3</th>\n",
       "      <td>100.0</td>\n",
       "      <td>230.9000</td>\n",
       "      <td>307.0</td>\n",
       "      <td>86.96</td>\n",
       "      <td>18.8600</td>\n",
       "      <td>0.0531</td>\n",
       "      <td>12.240</td>\n",
       "    </tr>\n",
       "    <tr>\n",
       "      <th>4</th>\n",
       "      <td>200.0</td>\n",
       "      <td>226.6000</td>\n",
       "      <td>-180.2</td>\n",
       "      <td>-87.82</td>\n",
       "      <td>26.1900</td>\n",
       "      <td>0.0382</td>\n",
       "      <td>8.681</td>\n",
       "    </tr>\n",
       "  </tbody>\n",
       "</table>\n",
       "</div>"
      ],
      "text/plain": [
       "   f[kHz]    Z[kOm]  L_s[mH]  theta[circ]        Q       D  ESR[Om]\n",
       "0     0.1    0.8198    195.1         8.60   0.1512  6.6110  810.500\n",
       "1     1.0    1.4680    194.8        56.48   1.5090  0.6623  810.900\n",
       "2    10.0   12.2300    195.6        86.05  14.4800  0.0690  848.400\n",
       "3   100.0  230.9000    307.0        86.96  18.8600  0.0531   12.240\n",
       "4   200.0  226.6000   -180.2       -87.82  26.1900  0.0382    8.681"
      ]
     },
     "execution_count": 10,
     "metadata": {},
     "output_type": "execute_result"
    }
   ],
   "source": [
    "# Motech RLC typu MT 4080\n",
    "cewka_radiowa = pd.DataFrame()\n",
    "cewka_radiowa['f[kHz]'] = (0.1,1,10,100,200) *u.kHz\n",
    "cewka_radiowa['Z[kOm]'] = (0.8198,1.468,12.23,230.9,226.6) * u.kOhm\n",
    "cewka_radiowa['L_s[mH]'] = (195.1,194.8,195.6,307.0,-180.2) * u.mH\n",
    "cewka_radiowa['theta[circ]'] = (8.6,56.48,86.05,86.96,-87.82) *u.degree\n",
    "cewka_radiowa['Q'] = (0.1512,1.509,14.48,18.86,26.19)\n",
    "cewka_radiowa['D'] = (6.611,0.6623,0.0690,0.0531,0.0382)\n",
    "cewka_radiowa['ESR[Om]'] = (810.5,810.9,848.4,12.24,8.681) * u.Ohm\n",
    "cewka_radiowa"
   ]
  },
  {
   "cell_type": "code",
   "execution_count": 24,
   "metadata": {},
   "outputs": [
    {
     "data": {
      "text/latex": [
       "$0.2851663 \\; \\mathrm{\\frac{1}{F\\,Hz^{2}}}$"
      ],
      "text/plain": [
       "<Quantity 0.2851663 1 / (F Hz2)>"
      ]
     },
     "execution_count": 24,
     "metadata": {},
     "output_type": "execute_result"
    }
   ],
   "source": [
    "#liczę sobie cewkę (do Q-metru)\n",
    "#bo jej nie spisałam\n",
    "#takie życie\n",
    "#do rzyci\n",
    "1e3/((C+1.264e-9 * u.Farad)*4*np.pi**2*(260e3*u.Hertz)**2) #mH"
   ]
  },
  {
   "cell_type": "code",
   "execution_count": null,
   "metadata": {},
   "outputs": [],
   "source": []
  }
 ],
 "metadata": {
  "kernelspec": {
   "display_name": "Python 3",
   "language": "python",
   "name": "python3"
  },
  "language_info": {
   "codemirror_mode": {
    "name": "ipython",
    "version": 3
   },
   "file_extension": ".py",
   "mimetype": "text/x-python",
   "name": "python",
   "nbconvert_exporter": "python",
   "pygments_lexer": "ipython3",
   "version": "3.6.4"
  }
 },
 "nbformat": 4,
 "nbformat_minor": 2
}
